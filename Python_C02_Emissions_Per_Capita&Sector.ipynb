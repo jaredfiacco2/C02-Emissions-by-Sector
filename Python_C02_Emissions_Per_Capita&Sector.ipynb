{
 "cells": [
  {
   "cell_type": "code",
   "execution_count": 274,
   "id": "08924fbe",
   "metadata": {},
   "outputs": [],
   "source": [
    "import pandas as pd"
   ]
  },
  {
   "cell_type": "code",
   "execution_count": 428,
   "id": "43912ac1",
   "metadata": {},
   "outputs": [],
   "source": [
    "### Pulled this data from https://www.climatetrace.org/inventory in 02/2022\n",
    "#### Disclaimer from the source that should be noted: \"All Sectors excluding Forest and Land Use Emissions\"\n",
    "df = pd.read_csv(\"climatetrace_emissions_by_subsector_timeseries_all.csv\")\n",
    "\n",
    "##Manipulations for climate tace data cleaning\n",
    "df = df.rename(columns = {'Tonnes Co2e':'Tonnes_C02'})\n",
    "df = df.fillna(0)\n",
    "df['Tonnes_C02_Millions'] = df['Tonnes_C02']/1000000\n",
    "df['year'] = pd.DatetimeIndex(df['start']).year\n",
    "df = df.rename(columns = {'country':'country_code'})\n",
    "df.year = df.year.astype(str)\n",
    "\n",
    "### Pulled this data from https://data.worldbank.org/indicator/SP.POP.TOTL in 02/2022\n",
    "wpop = pd.read_csv(\"API_SP.POP.TOTL_DS2_en_csv_v2_3628828.csv\",skiprows=3)\n",
    "wpop = wpop.rename(columns={'Country Code':'country_code'})\n",
    "wpop = wpop.fillna(0)\n",
    "\n",
    "##Changes to the dataframe so I can easily merge it with the other dataframe\n",
    "keepcolumns = ['Country Name','country_code','Indicator Name','Indicator Code']\n",
    "value_columns = wpop.columns.difference(keepcolumns)\n",
    "wpop = pd.melt(wpop,id_vars=keepcolumns,value_vars=value_columns,var_name='Year',\n",
    "        value_name='Population')\n",
    "wpop = wpop[['Country Name','country_code','Year','Population']]\n",
    "\n",
    "###Merging the two dataframes and a quick per capita calculation\n",
    "df = pd.merge(df,wpop,how='left',left_on=['country_code','year'],right_on=['country_code','Year'])\n",
    "df.reset_index(drop=True,inplace=True)\n",
    "df['Pounds_C02_PerCapita'] = df['Tonnes_C02']/df['Population']*2000\n",
    "\n",
    "###Bringing in Groupings from the world bank to category and remove outliers\n",
    "wg = pd.read_csv('Metadata_Country_API_SP.POP.TOTL_DS2_en_csv_v2_3628828.csv')\n",
    "wg = wg[['Country Code','Region','IncomeGroup']]\n",
    "df = pd.merge(df,wg,how='left',left_on='country_code',right_on='Country Code')\n",
    "df = df.drop(columns=['Country Code'])\n",
    "\n",
    "df.to_csv('Yearly C02 emissions - Per Country and Per Capita 2015-2020.csv')\n",
    "\n"
   ]
  },
  {
   "cell_type": "code",
   "execution_count": null,
   "id": "e2557f2e",
   "metadata": {},
   "outputs": [],
   "source": []
  },
  {
   "cell_type": "code",
   "execution_count": null,
   "id": "0aea62f0",
   "metadata": {},
   "outputs": [],
   "source": []
  },
  {
   "cell_type": "code",
   "execution_count": null,
   "id": "e756042d",
   "metadata": {},
   "outputs": [],
   "source": []
  },
  {
   "cell_type": "code",
   "execution_count": null,
   "id": "dffd4ad3",
   "metadata": {},
   "outputs": [],
   "source": []
  }
 ],
 "metadata": {
  "kernelspec": {
   "display_name": "Python 3 (ipykernel)",
   "language": "python",
   "name": "python3"
  },
  "language_info": {
   "codemirror_mode": {
    "name": "ipython",
    "version": 3
   },
   "file_extension": ".py",
   "mimetype": "text/x-python",
   "name": "python",
   "nbconvert_exporter": "python",
   "pygments_lexer": "ipython3",
   "version": "3.9.7"
  }
 },
 "nbformat": 4,
 "nbformat_minor": 5
}
